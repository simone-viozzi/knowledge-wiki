{
 "cells": [
  {
   "cell_type": "markdown",
   "metadata": {},
   "source": [
    "# Shortest path\n",
    "A graph is a set of V of vertices and a set of E of Edges, such that each edge in E connected two of the vertices in V. When they are labeled, the number can be viewed as weight or distance depends on the context. It has a wide array of applications from social networking to neural network to engineering field."
   ]
  },
  {
   "cell_type": "markdown",
   "metadata": {},
   "source": [
    "## [heapq](https://docs.python.org/3/library/heapq.html) — Heap queue algorithm"
   ]
  },
  {
   "cell_type": "code",
   "execution_count": 2,
   "metadata": {},
   "outputs": [],
   "source": [
    "from heapq import heappop, heappush\n"
   ]
  },
  {
   "cell_type": "markdown",
   "metadata": {},
   "source": [
    "## the data\n",
    "the data is a dict with the key being one of the vertex of the graph and the value is a dict with all the possible destination from the current vertice, along with the weight."
   ]
  },
  {
   "cell_type": "code",
   "execution_count": 20,
   "metadata": {},
   "outputs": [],
   "source": [
    "simple_graph = {\n",
    "    \"a\": {\"b\": 2, \"c\": 4, \"e\": 1},\n",
    "    \"b\": {\"a\": 2, \"d\": 3},\n",
    "    \"c\": {\"a\": 4, \"d\": 6},\n",
    "    \"d\": {\"c\": 6, \"b\": 3, \"e\": 2},\n",
    "    \"e\": {\"a\": 1, \"d\": 2},\n",
    "}\n",
    "complex_graph = {\n",
    "    \"a\": {\"w\": 14, \"x\": 7, \"y\": 9},\n",
    "    \"b\": {\"w\": 9, \"z\": 6},\n",
    "    \"w\": {\"a\": 14, \"b\": 9, \"y\": 2},\n",
    "    \"x\": {\"a\": 7, \"y\": 10, \"z\": 15},\n",
    "    \"y\": {\"a\": 9, \"w\": 2, \"x\": 10, \"z\": 11},\n",
    "    \"z\": {\"b\": 6, \"x\": 15, \"y\": 11},\n",
    "}\n"
   ]
  },
  {
   "cell_type": "code",
   "execution_count": 61,
   "metadata": {},
   "outputs": [],
   "source": [
    "def shortest_path(graph, start, end):\n",
    "    q = [(0, start, [])]\n",
    "    seen = set()\n",
    "    mins = {start: 0}\n",
    "\n",
    "    while q:\n",
    "        #print(\"[\")\n",
    "        #for c in q:\n",
    "        #    print(f\"\\t{c}\")\n",
    "        #print(\"]\")\n",
    "\n",
    "        cost, v, path = heappop(q)\n",
    "        print(f\"current node: {v} with cost {cost} and path {path}\")\n",
    "\n",
    "        if v not in seen:\n",
    "            path = path + [v]\n",
    "            seen.add(v)\n",
    "\n",
    "            if v == end:  # reach the end v\n",
    "                return cost, path\n",
    "\n",
    "            print(f\"\\tadding {v}'s neighbors to the queue\")\n",
    "            print(f\"\\tneighbors of {v}: {graph[v]}\")\n",
    "            for (nxt, c) in graph[v].items():\n",
    "                if nxt in seen:\n",
    "                    continue\n",
    "\n",
    "                print(f\"\\t\\tchecking node {nxt} with cost {c}\")\n",
    "\n",
    "                pre = mins.get(nxt)\n",
    "                nex = cost + c\n",
    "\n",
    "                if pre is None or nex < pre:\n",
    "                    mins[nxt] = nex\n",
    "\n",
    "                    print(f\"\\t\\t- push {nxt} with cost {nex} and path {path}\")\n",
    "\n",
    "                    heappush(q, (nex, nxt, path))\n",
    "                else:\n",
    "                    print(f\"\\t\\t- skip {nxt} with cost {nex} and path {path}\")\n",
    "                        \n",
    "    return None, None\n",
    "\n"
   ]
  },
  {
   "cell_type": "code",
   "execution_count": 62,
   "metadata": {},
   "outputs": [
    {
     "name": "stdout",
     "output_type": "stream",
     "text": [
      "current node: a with cost 0 and path []\n",
      "\tadding a's neighbors to the queue\n",
      "\tneighbors of a: {'b': 2, 'c': 4, 'e': 1}\n",
      "\t\tchecking node b with cost 2\n",
      "\t\t- push b with cost 2 and path ['a']\n",
      "\t\tchecking node c with cost 4\n",
      "\t\t- push c with cost 4 and path ['a']\n",
      "\t\tchecking node e with cost 1\n",
      "\t\t- push e with cost 1 and path ['a']\n",
      "current node: e with cost 1 and path ['a']\n",
      "\tadding e's neighbors to the queue\n",
      "\tneighbors of e: {'a': 1, 'd': 2}\n",
      "\t\tchecking node d with cost 2\n",
      "\t\t- push d with cost 3 and path ['a', 'e']\n",
      "current node: b with cost 2 and path ['a']\n",
      "\tadding b's neighbors to the queue\n",
      "\tneighbors of b: {'a': 2, 'd': 3}\n",
      "\t\tchecking node d with cost 3\n",
      "\t\t- skip d with cost 5 and path ['a', 'b']\n",
      "current node: d with cost 3 and path ['a', 'e']\n",
      "(3, ['a', 'e', 'd'])\n"
     ]
    }
   ],
   "source": [
    "print(shortest_path(simple_graph, \"a\", \"d\"))\n"
   ]
  }
 ],
 "metadata": {
  "kernelspec": {
   "display_name": "Python 3.8.12 ('python-3.8.12': venv)",
   "language": "python",
   "name": "python3"
  },
  "language_info": {
   "codemirror_mode": {
    "name": "ipython",
    "version": 3
   },
   "file_extension": ".py",
   "mimetype": "text/x-python",
   "name": "python",
   "nbconvert_exporter": "python",
   "pygments_lexer": "ipython3",
   "version": "3.8.12"
  },
  "orig_nbformat": 4,
  "vscode": {
   "interpreter": {
    "hash": "f413199212a19c5bde8cbfd824ef131809f5f0c83fe4e4adc0c48d609944fbab"
   }
  }
 },
 "nbformat": 4,
 "nbformat_minor": 2
}
