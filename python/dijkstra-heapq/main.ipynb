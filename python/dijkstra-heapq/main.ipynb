{
 "cells": [
  {
   "cell_type": "markdown",
   "metadata": {},
   "source": [
    "# Shortest path\n",
    "A graph is a set of V of vertices and a set of E of Edges, such that each edge in E connected two of the vertices in V. When they are labeled, the number can be viewed as weight or distance depends on the context. It has a wide array of applications from social networking to neural network to engineering field."
   ]
  },
  {
   "cell_type": "markdown",
   "metadata": {},
   "source": [
    "## [heapq](https://docs.python.org/3/library/heapq.html) — Heap queue algorithm"
   ]
  },
  {
   "cell_type": "code",
   "execution_count": 6,
   "metadata": {},
   "outputs": [],
   "source": [
    "from heapq import heappop, heappush\n"
   ]
  },
  {
   "cell_type": "markdown",
   "metadata": {},
   "source": [
    "## the data\n",
    "the data is a dict with the key being one of the vertex of the graph and the value is a dict with all the possible destination from the current vertice, along with the weight."
   ]
  },
  {
   "cell_type": "code",
   "execution_count": 4,
   "metadata": {},
   "outputs": [],
   "source": [
    "simple_graph = {\n",
    "    \"a\": {\"b\": 2, \"c\": 4, \"e\": 1},\n",
    "    \"b\": {\"a\": 2, \"d\": 3},\n",
    "    \"c\": {\"a\": 4, \"d\": 6},\n",
    "    \"d\": {\"c\": 6, \"b\": 3, \"e\": 2},\n",
    "    \"e\": {\"a\": 1, \"d\": 2},\n",
    "}\n",
    "complex_graph = {\n",
    "    \"a\": {\"w\": 14, \"x\": 7, \"y\": 9},\n",
    "    \"b\": {\"w\": 9, \"z\": 6},\n",
    "    \"w\": {\"a\": 14, \"b\": 9, \"y\": 2},\n",
    "    \"x\": {\"a\": 7, \"y\": 10, \"z\": 15},\n",
    "    \"y\": {\"a\": 9, \"w\": 2, \"x\": 10, \"z\": 11},\n",
    "    \"z\": {\"b\": 6, \"x\": 15, \"y\": 11},\n",
    "}\n"
   ]
  },
  {
   "cell_type": "code",
   "execution_count": 1,
   "metadata": {},
   "outputs": [],
   "source": [
    "def dprint(*args, debug=False, **kwargs):\n",
    "    if debug:\n",
    "        print(*args, **kwargs)\n"
   ]
  },
  {
   "cell_type": "markdown",
   "metadata": {},
   "source": [
    "## the algorithm"
   ]
  },
  {
   "cell_type": "code",
   "execution_count": 19,
   "metadata": {},
   "outputs": [],
   "source": [
    "def shortest_path(graph, start, end, debug=False):\n",
    "\n",
    "    # Initialize the queue with the start node\n",
    "    q = [(0, start, [])]\n",
    "\n",
    "    # Keep track of visited nodes\n",
    "    seen = set()\n",
    "\n",
    "    # avoid visiting nodes if there is a shorter path\n",
    "    mins = {start: 0}\n",
    "\n",
    "    # Loop until the queue is empty, if it is empty then there is no path\n",
    "    while q:\n",
    "        # print the queue\n",
    "        dprint(\"q: [\", debug=debug)\n",
    "        for c in q:\n",
    "            dprint(f\"\\t{c}\", debug=debug)\n",
    "        dprint(\"]\", debug=debug)\n",
    "\n",
    "        # pop the current path with the lowest cost\n",
    "        cost, curr_node, path = heappop(q)\n",
    "        dprint(\n",
    "            f\"current node: {curr_node} with cost {cost} and path {path}\", debug=debug\n",
    "        )\n",
    "\n",
    "        # if we already visited this node, skip it\n",
    "        if curr_node in seen:\n",
    "            continue\n",
    "\n",
    "        # add the current node to the path\n",
    "        path = path + [curr_node]\n",
    "        seen.add(curr_node)\n",
    "\n",
    "        # if we reached the end, return the path\n",
    "        if curr_node == end:\n",
    "            return cost, path\n",
    "\n",
    "        dprint(f\"\\tadding {curr_node}'s neighbors to the queue\", debug=debug)\n",
    "        dprint(f\"\\tneighbors of {curr_node}: {graph[curr_node]}\", debug=debug)\n",
    "\n",
    "        # add the current node neighbors to the queue\n",
    "        for (nxt, c) in graph[curr_node].items():\n",
    "            # if we already visited this node, skip it\n",
    "            if nxt in seen:\n",
    "                continue\n",
    "\n",
    "            dprint(f\"\\t\\tchecking node {nxt} with cost {c}\", debug=debug)\n",
    "\n",
    "            # we need to know if there is a shorter path to this node\n",
    "            prev_cost = mins.get(nxt)\n",
    "            next_cost = cost + c\n",
    "\n",
    "            if prev_cost is None or next_cost < prev_cost:\n",
    "                # if there is no shorter path, add it to the queue\n",
    "                # and update the minimum cost\n",
    "                mins[nxt] = next_cost\n",
    "\n",
    "                dprint(\n",
    "                    f\"\\t\\t- push {nxt} with cost {next_cost} and path {path}\",\n",
    "                    debug=debug,\n",
    "                )\n",
    "\n",
    "                heappush(q, (next_cost, nxt, path))\n",
    "            else:\n",
    "                # if the current path is longer, skip it\n",
    "                dprint(\n",
    "                    f\"\\t\\t- skip {nxt} with cost {next_cost} and path {path}\",\n",
    "                    debug=debug,\n",
    "                )\n",
    "\n",
    "    return float(\"inf\"), None\n"
   ]
  },
  {
   "cell_type": "code",
   "execution_count": 23,
   "metadata": {},
   "outputs": [
    {
     "name": "stdout",
     "output_type": "stream",
     "text": [
      "q: [\n",
      "\t(0, 'a', [])\n",
      "]\n",
      "current node: a with cost 0 and path []\n",
      "\tadding a's neighbors to the queue\n",
      "\tneighbors of a: {'w': 14, 'x': 7, 'y': 9}\n",
      "\t\tchecking node w with cost 14\n",
      "\t\t- push w with cost 14 and path ['a']\n",
      "\t\tchecking node x with cost 7\n",
      "\t\t- push x with cost 7 and path ['a']\n",
      "\t\tchecking node y with cost 9\n",
      "\t\t- push y with cost 9 and path ['a']\n",
      "q: [\n",
      "\t(7, 'x', ['a'])\n",
      "\t(14, 'w', ['a'])\n",
      "\t(9, 'y', ['a'])\n",
      "]\n",
      "current node: x with cost 7 and path ['a']\n",
      "\tadding x's neighbors to the queue\n",
      "\tneighbors of x: {'a': 7, 'y': 10, 'z': 15}\n",
      "\t\tchecking node y with cost 10\n",
      "\t\t- skip y with cost 17 and path ['a', 'x']\n",
      "\t\tchecking node z with cost 15\n",
      "\t\t- push z with cost 22 and path ['a', 'x']\n",
      "q: [\n",
      "\t(9, 'y', ['a'])\n",
      "\t(14, 'w', ['a'])\n",
      "\t(22, 'z', ['a', 'x'])\n",
      "]\n",
      "current node: y with cost 9 and path ['a']\n",
      "\tadding y's neighbors to the queue\n",
      "\tneighbors of y: {'a': 9, 'w': 2, 'x': 10, 'z': 11}\n",
      "\t\tchecking node w with cost 2\n",
      "\t\t- push w with cost 11 and path ['a', 'y']\n",
      "\t\tchecking node z with cost 11\n",
      "\t\t- push z with cost 20 and path ['a', 'y']\n",
      "q: [\n",
      "\t(11, 'w', ['a', 'y'])\n",
      "\t(20, 'z', ['a', 'y'])\n",
      "\t(14, 'w', ['a'])\n",
      "\t(22, 'z', ['a', 'x'])\n",
      "]\n",
      "current node: w with cost 11 and path ['a', 'y']\n",
      "(11, ['a', 'y', 'w'])\n"
     ]
    }
   ],
   "source": [
    "print(shortest_path(complex_graph, \"a\", \"w\", debug=True))\n"
   ]
  }
 ],
 "metadata": {
  "kernelspec": {
   "display_name": "Python 3.8.12 ('python-3.8.12': venv)",
   "language": "python",
   "name": "python3"
  },
  "language_info": {
   "codemirror_mode": {
    "name": "ipython",
    "version": 3
   },
   "file_extension": ".py",
   "mimetype": "text/x-python",
   "name": "python",
   "nbconvert_exporter": "python",
   "pygments_lexer": "ipython3",
   "version": "3.8.12"
  },
  "orig_nbformat": 4,
  "vscode": {
   "interpreter": {
    "hash": "f413199212a19c5bde8cbfd824ef131809f5f0c83fe4e4adc0c48d609944fbab"
   }
  }
 },
 "nbformat": 4,
 "nbformat_minor": 2
}
